{
  "nbformat": 4,
  "nbformat_minor": 0,
  "metadata": {
    "colab": {
      "provenance": [],
      "authorship_tag": "ABX9TyOZJkYJyHh/kvwwP+emgnkn",
      "include_colab_link": true
    },
    "kernelspec": {
      "name": "python3",
      "display_name": "Python 3"
    },
    "language_info": {
      "name": "python"
    }
  },
  "cells": [
    {
      "cell_type": "markdown",
      "metadata": {
        "id": "view-in-github",
        "colab_type": "text"
      },
      "source": [
        "<a href=\"https://colab.research.google.com/github/Letch49/ML-vvsu-2025-2026/blob/master/%D0%94%D0%BE%D0%BC%D0%B0%D1%88%D0%BD%D0%B5%D0%B5_%D0%B7%D0%B0%D0%B4%D0%B0%D0%BD%D0%B8%D0%B5_2.ipynb\" target=\"_parent\"><img src=\"https://colab.research.google.com/assets/colab-badge.svg\" alt=\"Open In Colab\"/></a>"
      ]
    },
    {
      "cell_type": "code",
      "source": [
        "!pip install pandas seaborn scikit-learn"
      ],
      "metadata": {
        "id": "o_fx2kEEzlJd"
      },
      "execution_count": null,
      "outputs": []
    },
    {
      "cell_type": "markdown",
      "source": [
        "# Домашнее задание про практике 2"
      ],
      "metadata": {
        "id": "nqqcaamYu3rQ"
      }
    },
    {
      "cell_type": "markdown",
      "source": [
        "- Провести разведочный анализ EDA (описать полученный результат). Тут важно, влияет ли X[i] на Y (примеры в практике 2)\n",
        "- Описать полученный результат относительно анализа целевой перменной и зависимой (см. практика 2)\n",
        "- Подобороться с пропусками в данных (при наличии в датасете). Объяснить способ выборка борьбы с пропуском\n",
        "- Обучить модель линейной регресии на всей выборке X, y. Вывести метрики\n",
        "- Сделать train_test_split и обучить на обучающей выборке. Предсказать результат на обучающей и тестовой выборках. Вывести метрики, объяснить полученный результат"
      ],
      "metadata": {
        "id": "PmV7k0V0viI3"
      }
    },
    {
      "cell_type": "code",
      "source": [
        "import pandas as pd"
      ],
      "metadata": {
        "id": "-ByF7CbPu8tB"
      },
      "execution_count": null,
      "outputs": []
    },
    {
      "cell_type": "code",
      "source": [
        "df = df.read_csv()"
      ],
      "metadata": {
        "id": "TE1kiTVbu7gI"
      },
      "execution_count": null,
      "outputs": []
    },
    {
      "cell_type": "code",
      "source": [
        "df.info()"
      ],
      "metadata": {
        "id": "cHnS6uyPu_ss"
      },
      "execution_count": null,
      "outputs": []
    },
    {
      "cell_type": "code",
      "source": [
        "# преобразовать категориальные признаки в category\n",
        "# df['column'] = df.column.astye('category')"
      ],
      "metadata": {
        "id": "kYBmPfxlvBUs"
      },
      "execution_count": null,
      "outputs": []
    },
    {
      "cell_type": "code",
      "source": [
        "# выбрать целевую переменную и разделить на X, y\n",
        "# целевая переменная - числовой непрерывный признак\n",
        "\n",
        "y = df.you_varialbe\n",
        "X = df.drop('you_variable', axis=1)"
      ],
      "metadata": {
        "id": "mNCCwK52vKpO"
      },
      "execution_count": null,
      "outputs": []
    },
    {
      "cell_type": "markdown",
      "source": [
        "## EDA (разведочный анализ относительно целевой переменной)\n",
        "\n",
        "в этом же блоке побороться с проусками, важно сделать именно после разведочного анализа\n",
        "- Y и категориальные\n",
        "- Y и числовые\n",
        "- Описать все полученные результаты в своем блоке\n",
        "\n",
        "- Отобрать признаки для дальнейшего анализа, записать в ```best_features```"
      ],
      "metadata": {
        "id": "eAjGz9j5wUlB"
      }
    },
    {
      "cell_type": "code",
      "source": [],
      "metadata": {
        "id": "ADEn3gA6wj0L"
      },
      "execution_count": null,
      "outputs": []
    },
    {
      "cell_type": "code",
      "source": [],
      "metadata": {
        "id": "l_fD-dVtwi0D"
      },
      "execution_count": null,
      "outputs": []
    },
    {
      "cell_type": "code",
      "source": [
        "categorial_features = [] # перечислить названия колонок с категориальными фичами\n",
        "numeric_features = [] # перечислить названия колонок с категориальными фичами\n",
        "best_beatures = categorial_features + numeric_features"
      ],
      "metadata": {
        "id": "YJot4MMAz6oc"
      },
      "execution_count": null,
      "outputs": []
    },
    {
      "cell_type": "markdown",
      "source": [
        "## Обучение модели\n",
        "\n",
        "**предобработка**\n",
        "- Категориальные признаки преобразовать с помощью OneHotEncoder (если признак является типом **bool** по логике можно интерпретировать как (true, false) То можно LabelEncoder)\n",
        "- Числовые признаки записать в `X_scaled` и провести стандартизацию с помощью `StandardScaler`. Желательно без категориальных признаков\n",
        "\n",
        "**Модель 1**\n",
        "\n",
        "- Обучить модель `LinearRegression` на всей выборке X\n",
        "- Предсказать y_pred на всей выборке\n",
        "- Вывести метрики качества MAE, MAPE, R2, MSE, RMSE (интерпетировать результат)\n",
        "- Вывести model.coef_ (визуализировать относительно колонок X_scaled.columns)\n",
        "\n",
        "**Модель 2**\n",
        "- Использовать best_features - отобранные признаки\n",
        "- сделать tain_test_split\n",
        "- Обучить на X_train, y_train\n",
        "- Предсказать на обучающей и на тестовой\n",
        "- Вывести метрики качества MAE, MAPE, R2, MSE, RMSE для обучающей и тестовой (интерпетировать результат)\n",
        "- Вывести коэфициенты этой модели и интерпретировать\n",
        "\n",
        "\n",
        "P.S.\n",
        "- Важно не забывать о стандартизации и разделении категориальных признаков на отдельные олонки\n",
        "- Все примеры есть в практике 2\n",
        "\n",
        "\n",
        "P.S.S\n",
        "Старайтесь делать собственные предположения, ChatGPT задачу решит, но вы не добьетесь понимания полученных результатов\n"
      ],
      "metadata": {
        "id": "Vz4kuQwtwYxX"
      }
    },
    {
      "cell_type": "markdown",
      "source": [
        "### Преобразование категориальных"
      ],
      "metadata": {
        "id": "JuY4g6YozpKy"
      }
    },
    {
      "cell_type": "code",
      "source": [
        "# https://habr.com/ru/articles/456294/ - виды Encoder для категориальных признаков\n",
        "# LabelEncoder, OneHotEncoder\n",
        "# Label для bool (0,1), (yes, no), (true, false)\n",
        "# OneHot - для меток\n",
        "\n",
        "from sklearn.preprocessing import OneHotEncoder # https://scikit-learn.org/stable/modules/generated/sklearn.preprocessing.OneHotEncoder.html\n",
        "\n",
        "encoder = OneHotEncoder(sparse_output=False)  # sparse=False → выдаёт DataFrame, а не numpy матрицу\n",
        "encoded = encoder.fit_transform(X[[\"YOU_VARIABLE_NAME\"]])  # .fit_transfom(X) - обучить и трансформировать, т.е. вернуть результат"
      ],
      "metadata": {
        "id": "K_bpGlkhzSfa"
      },
      "execution_count": null,
      "outputs": []
    },
    {
      "cell_type": "code",
      "source": [],
      "metadata": {
        "id": "2DIWTLnvzniK"
      },
      "execution_count": null,
      "outputs": []
    },
    {
      "cell_type": "markdown",
      "source": [],
      "metadata": {
        "id": "ysTXn17Dzr3H"
      }
    },
    {
      "cell_type": "code",
      "source": [
        "X = X.drop('type', axis=1) if 'type' in X.columns else X # убираем базовую колонку type = [red, white]\n",
        "X = pd.concat([X, X_encoded], axis=1) if 'type_white' not in X.columns else X # оставляем 2 разные колонки [type_red, type_white]"
      ],
      "metadata": {
        "id": "YxApu4kLzaDA"
      },
      "execution_count": null,
      "outputs": []
    },
    {
      "cell_type": "code",
      "source": [],
      "metadata": {
        "id": "0nRcfBBtzn7Q"
      },
      "execution_count": null,
      "outputs": []
    },
    {
      "cell_type": "markdown",
      "source": [
        "### Преобразование числовых"
      ],
      "metadata": {
        "id": "2g8xnVRWztIe"
      }
    },
    {
      "cell_type": "code",
      "source": [
        "from sklearn.preprocessing import StandardScaler\n",
        "\n",
        "scaler = StandardScaler()\n",
        "X_scaled = scaler.fit_transform(X) # попробовать избавиться от категориальных. То ест не засовывать такие признаки в стандартизацию\n"
      ],
      "metadata": {
        "id": "qgvhXjiPzIDH"
      },
      "execution_count": null,
      "outputs": []
    },
    {
      "cell_type": "code",
      "source": [],
      "metadata": {
        "id": "K9GgUqLrzoQW"
      },
      "execution_count": null,
      "outputs": []
    },
    {
      "cell_type": "code",
      "source": [
        "from sklearn.linear_model import LinearRegression # модель линейной регрессии"
      ],
      "metadata": {
        "id": "Ku7PnDJMz1aW"
      },
      "execution_count": null,
      "outputs": []
    },
    {
      "cell_type": "markdown",
      "source": [
        "### Модель для всех данных"
      ],
      "metadata": {
        "id": "F1g1S9y3z19w"
      }
    },
    {
      "cell_type": "code",
      "source": [
        "from sklearn.linear_model import LinearRegression\n",
        "\n",
        "model = LinearRegression()"
      ],
      "metadata": {
        "id": "Pb5MFErPz4TA"
      },
      "execution_count": null,
      "outputs": []
    },
    {
      "cell_type": "markdown",
      "source": [
        "### Разделение на обучающую, тестовую"
      ],
      "metadata": {
        "id": "pnybFq72zu3V"
      }
    },
    {
      "cell_type": "code",
      "source": [
        "from sklearn.model_selection import train_test_split\n",
        "\n",
        "X_train, X_test, y_train, y_test = train_test_split(X_scaled, y, test_size=0.2, random_state=42) # Рездляем данные как 80% - обучение, 20% на тест"
      ],
      "metadata": {
        "id": "EjRhp2c4y9Sg"
      },
      "execution_count": null,
      "outputs": []
    },
    {
      "cell_type": "code",
      "source": [],
      "metadata": {
        "id": "DaRSeDT4zoqc"
      },
      "execution_count": null,
      "outputs": []
    },
    {
      "cell_type": "code",
      "source": [
        "from sklearn.linear_model import LinearRegression"
      ],
      "metadata": {
        "id": "yVg9lC1NzClb"
      },
      "execution_count": null,
      "outputs": []
    },
    {
      "cell_type": "code",
      "source": [
        "model = LinearRegression()"
      ],
      "metadata": {
        "id": "r248FSjLu6X4"
      },
      "execution_count": null,
      "outputs": []
    },
    {
      "cell_type": "code",
      "source": [],
      "metadata": {
        "id": "vsulqlpLu3N9"
      },
      "execution_count": null,
      "outputs": []
    },
    {
      "cell_type": "code",
      "execution_count": null,
      "metadata": {
        "id": "IMxtXnJzuzx9"
      },
      "outputs": [],
      "source": []
    }
  ]
}